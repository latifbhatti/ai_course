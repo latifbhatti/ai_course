{
 "cells": [
  {
   "cell_type": "code",
   "execution_count": null,
   "metadata": {},
   "outputs": [],
   "source": []
  },
  {
   "cell_type": "code",
   "execution_count": 17,
   "metadata": {},
   "outputs": [
    {
     "name": "stdout",
     "output_type": "stream",
     "text": [
      "{'total words': 5, 'total charectors': 21, 'average word': 4.2}\n"
     ]
    }
   ],
   "source": [
    "def analayze_sentance(s):\n",
    "    l=['a','b','c','d','e','f','g','h','i','j','k','l','m','n','o','p','q','r','s','t','u','v','t','x','y','z']\n",
    "    a=0\n",
    "    b=1\n",
    "    for i in s:\n",
    "        if i in l:\n",
    "            a+=1\n",
    "        elif (i==\" \"):\n",
    "            b+=1\n",
    "    return {\"total words\":b,'total charectors':a,'average word':a/b}\n",
    "        \n",
    "a=\"jfhkjdkj fd\"\n",
    "a=analayze_sentance()\n",
    "print(a)"
   ]
  },
  {
   "cell_type": "code",
   "execution_count": 45,
   "metadata": {},
   "outputs": [
    {
     "name": "stdout",
     "output_type": "stream",
     "text": [
      "mean = 2.2 , median =  2 , mode = 1\n"
     ]
    }
   ],
   "source": [
    "import statistics\n",
    "def data_analyze(data):\n",
    "    mean=sum(data)/len(data)\n",
    "    data.sort()\n",
    "    if len(data)%2==0:\n",
    "        a=(len(data)//2)\n",
    "        median=(data[a-1]+data[a])/2\n",
    "    else:\n",
    "        a=(len(data)//2)\n",
    "        median=data[a]\n",
    "    abc=0\n",
    "    abc=statistics.mode(data)\n",
    "    print(f\"mean = {mean} , median =  {median} , mode = {abc}\")\n",
    "data_analyze([1,2,3,4,1])"
   ]
  },
  {
   "cell_type": "code",
   "execution_count": 71,
   "metadata": {},
   "outputs": [],
   "source": [
    "class bank:\n",
    "    def __init__(self):\n",
    "        pass\n",
    "    def manage_customer_detail(self):\n",
    "        pass\n",
    "    def manage_customer_account(self):\n",
    "        pass\n",
    "    \n",
    "class customer:\n",
    "    def __init__(self):\n",
    "        pass\n",
    "    def customer_detail(self):\n",
    "        pass\n",
    "class account:\n",
    "    def __init__(self):\n",
    "        pass\n",
    "    def account_detail(self):\n",
    "        pass\n",
    "    def widhdraw(self):\n",
    "        pass\n",
    "    def deposit(self):\n",
    "        pass\n",
    "class transaction:\n",
    "    def __init__(self):\n",
    "        pass\n",
    "    def transaction_detail(self):\n",
    "        pass"
   ]
  },
  {
   "cell_type": "code",
   "execution_count": 70,
   "metadata": {},
   "outputs": [
    {
     "name": "stdout",
     "output_type": "stream",
     "text": [
      "this is fiction book = programming fundamental , author name = mohammad latif  , price = 500\n"
     ]
    }
   ],
   "source": [
    "class book:\n",
    "    def __init__(self,title,author,price):\n",
    "        self.title=title\n",
    "        self.author=author\n",
    "        self.price=price\n",
    "class fiction(book):\n",
    "    def __init__(self,genre,title,author,price):\n",
    "        self.genre=genre\n",
    "        super().__init__(title,author,price)\n",
    "    def book_info(self):\n",
    "        print(f\"this is fiction book = {self.title} , author name = {self.author}  , price = {self.price}\")\n",
    "        \n",
    "class non_fiction(book):\n",
    "    def __init__(self,subject):\n",
    "        self.subject=subject\n",
    "        \n",
    "a=fiction(\"fiction class\",'programming fundamental','mohammad latif',500)\n",
    "a.book_info()"
   ]
  },
  {
   "cell_type": "code",
   "execution_count": null,
   "metadata": {},
   "outputs": [],
   "source": []
  }
 ],
 "metadata": {
  "kernelspec": {
   "display_name": "Python 3",
   "language": "python",
   "name": "python3"
  },
  "language_info": {
   "codemirror_mode": {
    "name": "ipython",
    "version": 3
   },
   "file_extension": ".py",
   "mimetype": "text/x-python",
   "name": "python",
   "nbconvert_exporter": "python",
   "pygments_lexer": "ipython3",
   "version": "3.6.4"
  }
 },
 "nbformat": 4,
 "nbformat_minor": 2
}
